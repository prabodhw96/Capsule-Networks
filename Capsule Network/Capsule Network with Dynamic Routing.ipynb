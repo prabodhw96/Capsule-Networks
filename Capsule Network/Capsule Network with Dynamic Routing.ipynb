{
 "cells": [
  {
   "cell_type": "code",
   "execution_count": 30,
   "metadata": {
    "colab": {
     "base_uri": "https://localhost:8080/",
     "height": 88
    },
    "colab_type": "code",
    "id": "jUxAYutU5O4w",
    "outputId": "2236fc0d-3e13-4e05-efe9-5aa3c1d925cc"
   },
   "outputs": [],
   "source": [
    "import numpy as np\n",
    "import pandas as pd\n",
    "import matplotlib.pyplot as plt\n",
    "import seaborn as sns\n",
    "import torch\n",
    "import torch.nn.functional as F\n",
    "from torch import nn\n",
    "from torchvision import transforms, datasets\n",
    "import torch.optim as optim\n",
    "import copy"
   ]
  },
  {
   "cell_type": "code",
   "execution_count": 31,
   "metadata": {},
   "outputs": [
    {
     "name": "stdout",
     "output_type": "stream",
     "text": [
      "0.4.1\n",
      "True\n"
     ]
    }
   ],
   "source": [
    "print(torch.__version__)\n",
    "print(torch.cuda.is_available())"
   ]
  },
  {
   "cell_type": "code",
   "execution_count": 32,
   "metadata": {
    "colab": {
     "base_uri": "https://localhost:8080/",
     "height": 119
    },
    "colab_type": "code",
    "id": "2iS9HrO2qHHo",
    "outputId": "07668989-ae1c-46cb-a4ed-3d11a96ee385"
   },
   "outputs": [],
   "source": [
    "def one_hot_transform(labels):\n",
    "    one_hot = torch.zeros(labels.size()+tuple([10])).scatter_(-1, labels, 1)\n",
    "    return one_hot"
   ]
  },
  {
   "cell_type": "code",
   "execution_count": 33,
   "metadata": {},
   "outputs": [],
   "source": [
    "trainset = datasets.MNIST(root='../data',\n",
    "                          train = True,\n",
    "                          download = True,\n",
    "                          transform = transforms.Compose([\n",
    "                              transforms.RandomCrop(28, 2), \n",
    "                              transforms.ToTensor()]),\n",
    "                          target_transform = one_hot_transform)\n",
    "\n",
    "testset = datasets.MNIST(root='../data',\n",
    "                         train = False,\n",
    "                         download = True,\n",
    "                         transform = transforms.Compose([\n",
    "                             transforms.ToTensor()]),\n",
    "                         target_transform = one_hot_transform)"
   ]
  },
  {
   "cell_type": "code",
   "execution_count": 34,
   "metadata": {},
   "outputs": [],
   "source": [
    "train_loader = torch.utils.data.DataLoader( trainset, batch_size = 128, shuffle = True, num_workers = 4)\n",
    "test_loader = torch.utils.data.DataLoader( testset, batch_size = 128, shuffle = False, num_workers = 4)\n",
    "device = torch.device(\"cuda\" if torch.cuda.is_available() else \"cpu\")"
   ]
  },
  {
   "cell_type": "code",
   "execution_count": 35,
   "metadata": {
    "colab": {},
    "colab_type": "code",
    "id": "9TP2rZIWj9tt"
   },
   "outputs": [],
   "source": [
    "class CapsuleLayer(nn.Module):\n",
    "    def __init__(self, num_capsules, num_route_nodes, in_channels, out_channels, kernel_size=None, stride=None,\n",
    "                 num_iterations = 3):\n",
    "        super(CapsuleLayer, self).__init__()\n",
    "        self.num_route_nodes = num_route_nodes\n",
    "        self.num_iterations = num_iterations\n",
    "        self.num_capsules = num_capsules\n",
    "        if num_route_nodes != -1:\n",
    "            self.route_weights = nn.Parameter(torch.randn(num_capsules, num_route_nodes, in_channels, out_channels))\n",
    "        else:\n",
    "            self.capsules = nn.ModuleList(\n",
    "                [nn.Conv2d(in_channels, out_channels, kernel_size=kernel_size, stride=stride, padding=0) for _ in range(num_capsules)])\n",
    "\n",
    "    def squash(self, tensor, dim=-1):\n",
    "        squared_norm = (tensor ** 2).sum(dim=dim, keepdim=True)\n",
    "        scale = squared_norm / (1 + squared_norm)\n",
    "        return scale * tensor / torch.sqrt(squared_norm)\n",
    "      \n",
    "    def softmax(self, tensor, dim = 1):\n",
    "        transposed_input = tensor.transpose(dim, len(tensor.size()) - 1)\n",
    "        softmaxed_output = F.softmax(transposed_input.contiguous().view(-1, transposed_input.size(-1)), dim=-1)\n",
    "        return softmaxed_output.view(*transposed_input.size()).transpose(dim, len(tensor.size()) - 1)\n",
    "\n",
    "    def forward(self, x):\n",
    "        if self.num_route_nodes != -1:\n",
    "            priors = x[None, :, :, None, :] @ self.route_weights[:, None, :, :, :]\n",
    "        \n",
    "            logits = torch.zeros(*priors.size()).to(device)\n",
    "            for i in range(self.num_iterations):\n",
    "                probs = self.softmax(logits, dim = 2)\n",
    "                outputs = self.squash((probs * priors).sum(dim=2, keepdim=True))\n",
    "\n",
    "                if i != self.num_iterations - 1:\n",
    "                    delta_logits = (priors * outputs).sum(dim=-1, keepdim=True)\n",
    "                    logits = logits + delta_logits\n",
    "        else:\n",
    "            outputs = [capsule(x).view(x.size(0), -1, 1) for capsule in self.capsules]\n",
    "            outputs = torch.cat(outputs, dim=-1)\n",
    "            outputs = self.squash(outputs)\n",
    "        return outputs"
   ]
  },
  {
   "cell_type": "code",
   "execution_count": 36,
   "metadata": {
    "colab": {},
    "colab_type": "code",
    "id": "pdqvaG7JnA8p"
   },
   "outputs": [],
   "source": [
    "class CapsuleNetDecoder(nn.Module):\n",
    "    def __init__(self):\n",
    "        super(CapsuleNetDecoder, self).__init__()\n",
    "\n",
    "        self.conv1 = nn.Conv2d(in_channels = 1, out_channels = 256, kernel_size = 9, stride = 1)\n",
    "        self.primary_capsules = CapsuleLayer(num_capsules = 8, num_route_nodes = -1, in_channels = 256, out_channels = 32,\n",
    "                                             kernel_size = 9, stride = 2)\n",
    "        self.digit_capsules = CapsuleLayer(num_capsules = 10, num_route_nodes = 32 * 6 * 6, in_channels = 8,\n",
    "                                           out_channels = 16)\n",
    "\n",
    "        self.decoder = nn.Sequential(nn.Linear(16 * 10, 512),\n",
    "                                     nn.ReLU(inplace=True),\n",
    "                                     nn.Linear(512, 1024),\n",
    "                                     nn.ReLU(inplace=True),\n",
    "                                     nn.Linear(1024, 784),\n",
    "                                     nn.Sigmoid())\n",
    "\n",
    "    def forward(self, x, y, recons = True):\n",
    "        x = F.relu(self.conv1(x), inplace=True)\n",
    "        x = self.primary_capsules(x)\n",
    "        x = self.digit_capsules(x).squeeze().transpose(0, 1)\n",
    "        classes = (x**2).sum(dim=-1)**0.5\n",
    "        classes = F.softmax(classes, dim=-1)\n",
    "        reconstructions = None\n",
    "        if (recons):\n",
    "            reconstructions = self.decoder((x * y[:, :, None]).view(x.size(0), -1))\n",
    "        return x, classes, reconstructions"
   ]
  },
  {
   "cell_type": "code",
   "execution_count": 37,
   "metadata": {
    "colab": {},
    "colab_type": "code",
    "id": "mNz6N0eekjYv"
   },
   "outputs": [],
   "source": [
    "class CapsLoss(nn.Module):\n",
    "  \n",
    "    def __init__(self):\n",
    "        super(CapsLoss, self).__init__()\n",
    "        self.reconstruction_loss = nn.MSELoss(size_average = False)\n",
    "\n",
    "    def forward(self, images, labels, classes, reconstructions):\n",
    "        left = F.relu(0.9 - classes, inplace = True) ** 2\n",
    "        right = F.relu(classes - 0.1, inplace = True) ** 2\n",
    "        margin_loss = labels * left + 0.5 * (1. - labels) * right\n",
    "        margin_loss = margin_loss.sum()\n",
    "        images = images.view(reconstructions.size()[0], -1)\n",
    "        reconstruction_loss = self.reconstruction_loss(reconstructions, images)\n",
    "        return (margin_loss + 0.0005 * reconstruction_loss) / images.size(0)"
   ]
  },
  {
   "cell_type": "code",
   "execution_count": 38,
   "metadata": {
    "colab": {
     "base_uri": "https://localhost:8080/",
     "height": 581
    },
    "colab_type": "code",
    "id": "v41ke8qiFA9s",
    "outputId": "b5c7c2c9-d6bb-42c5-d3ff-e82b9def3c6f"
   },
   "outputs": [
    {
     "name": "stdout",
     "output_type": "stream",
     "text": [
      "With recons epoch no.: 1, Train loss: 0.51928, Training Accuracy is: 0.89840 \n",
      "With recons epoch no.: 1, Test loss: 0.47885, Testing Accuracy is: 0.98510 \n",
      "With recons epoch no.: 2, Train loss: 0.48123, Training Accuracy is: 0.97833 \n",
      "With recons epoch no.: 2, Test loss: 0.47343, Testing Accuracy is: 0.98990 \n",
      "With recons epoch no.: 3, Train loss: 0.47546, Training Accuracy is: 0.98410 \n",
      "With recons epoch no.: 3, Test loss: 0.47050, Testing Accuracy is: 0.99030 \n",
      "With recons epoch no.: 4, Train loss: 0.47196, Training Accuracy is: 0.98778 \n",
      "With recons epoch no.: 4, Test loss: 0.46750, Testing Accuracy is: 0.99340 \n",
      "With recons epoch no.: 5, Train loss: 0.46970, Training Accuracy is: 0.98783 \n",
      "With recons epoch no.: 5, Test loss: 0.46635, Testing Accuracy is: 0.99270 \n",
      "With recons epoch no.: 6, Train loss: 0.46794, Training Accuracy is: 0.98992 \n",
      "With recons epoch no.: 6, Test loss: 0.46539, Testing Accuracy is: 0.99160 \n",
      "With recons epoch no.: 7, Train loss: 0.46648, Training Accuracy is: 0.99088 \n",
      "With recons epoch no.: 7, Test loss: 0.46359, Testing Accuracy is: 0.99400 \n",
      "With recons epoch no.: 8, Train loss: 0.46533, Training Accuracy is: 0.99197 \n",
      "With recons epoch no.: 8, Test loss: 0.46318, Testing Accuracy is: 0.99350 \n",
      "With recons epoch no.: 9, Train loss: 0.46439, Training Accuracy is: 0.99222 \n",
      "With recons epoch no.: 9, Test loss: 0.46213, Testing Accuracy is: 0.99380 \n",
      "With recons epoch no.: 10, Train loss: 0.46368, Training Accuracy is: 0.99278 \n",
      "With recons epoch no.: 10, Test loss: 0.46195, Testing Accuracy is: 0.99410 \n",
      "With recons epoch no.: 11, Train loss: 0.46306, Training Accuracy is: 0.99335 \n",
      "With recons epoch no.: 11, Test loss: 0.46099, Testing Accuracy is: 0.99480 \n",
      "With recons epoch no.: 12, Train loss: 0.46242, Training Accuracy is: 0.99378 \n",
      "With recons epoch no.: 12, Test loss: 0.46079, Testing Accuracy is: 0.99410 \n",
      "With recons epoch no.: 13, Train loss: 0.46206, Training Accuracy is: 0.99387 \n",
      "With recons epoch no.: 13, Test loss: 0.46035, Testing Accuracy is: 0.99470 \n",
      "With recons epoch no.: 14, Train loss: 0.46155, Training Accuracy is: 0.99415 \n",
      "With recons epoch no.: 14, Test loss: 0.46021, Testing Accuracy is: 0.99530 \n",
      "With recons epoch no.: 15, Train loss: 0.46119, Training Accuracy is: 0.99480 \n",
      "With recons epoch no.: 15, Test loss: 0.45981, Testing Accuracy is: 0.99520 \n"
     ]
    }
   ],
   "source": [
    "criterion = CapsLoss()\n",
    "net = CapsuleNetDecoder().to(device) #for GPU\n",
    "optimizer = optim.Adam(net.parameters(), lr = 0.001)\n",
    "start_epoch = 0\n",
    "\n",
    "for epoch in range(15):  # Set no. of epochs to 15\n",
    "\n",
    "    # training\n",
    "    net.train()\n",
    "    running_loss = 0.0\n",
    "    count = 0.0\n",
    "    for data in train_loader:\n",
    "        # get the inputs\n",
    "        inputs, labels = data\n",
    "        inputs = inputs.to(device)\n",
    "        labels = labels.to(device)\n",
    "        \n",
    "        # zero the parameter gradients\n",
    "        optimizer.zero_grad()\n",
    "\n",
    "        # forward + backward + optimize\n",
    "        x, outputs, reconst = net(inputs, labels)\n",
    "        loss = criterion(inputs, labels, outputs, reconst)\n",
    "        \n",
    "        loss.backward()\n",
    "        optimizer.step()\n",
    "\n",
    "        # statistics\n",
    "        running_loss +=  ( loss.item() * inputs.size(0)) # Multiply by batch size\n",
    "        count += sum(np.argmax(labels.data.cpu().numpy(), 1) == np.argmax(outputs.data.cpu().numpy(), 1)) # Accuracy\n",
    "    \n",
    "    print(\"With recons epoch no.: %d, Train loss: %.5f, Training Accuracy is: %.5f \" % (epoch + 1, running_loss/len(trainset), count/len(trainset)) )\n",
    "    \n",
    "    # testing\n",
    "    net.eval()\n",
    "    running_loss = 0.0\n",
    "    count = 0.0\n",
    "    for data in test_loader:\n",
    "        # get the inputs\n",
    "        inputs, labels = data\n",
    "        \n",
    "        inputs = inputs.to(device)\n",
    "        labels = labels.to(device)\n",
    "\n",
    "        # forward \n",
    "        with torch.no_grad():\n",
    "            x, outputs, reconst = net(inputs, labels)\n",
    "        loss = criterion(inputs, labels, outputs, reconst)\n",
    "\n",
    "        # statistics\n",
    "        running_loss +=  ( loss.item() * inputs.size(0)) # Multiply by batch size\n",
    "        count += sum(np.argmax(labels.data.cpu().numpy(), 1) == np.argmax(outputs.data.cpu().numpy(), 1)) # Accuracy\n",
    "        \n",
    "    print(\"With recons epoch no.: %d, Test loss: %.5f, Testing Accuracy is: %.5f \" % (epoch + 1, running_loss/len(testset), count/len(testset)) )"
   ]
  },
  {
   "cell_type": "code",
   "execution_count": 40,
   "metadata": {
    "colab": {
     "base_uri": "https://localhost:8080/",
     "height": 658
    },
    "colab_type": "code",
    "id": "Y76B-TxXhdYn",
    "outputId": "ee2f2c17-4e4a-4ddf-dc18-65976af9cfa7"
   },
   "outputs": [
    {
     "data": {
      "image/png": "[encoded data removed]",
      "text/plain": [
       "<Figure size 360x360 with 8 Axes>"
      ]
     },
     "metadata": {
      "needs_background": "light"
     },
     "output_type": "display_data"
    }
   ],
   "source": [
    "plot_loader = torch.utils.data.DataLoader( trainset, batch_size = 4, shuffle = True, num_workers = 4)\n",
    "net.eval() # Evaluating\n",
    "\n",
    "for data in plot_loader:\n",
    "    # get the inputs\n",
    "    inputs, labels = data\n",
    "    inputs = inputs.to(device)\n",
    "    labels = labels.to(device)\n",
    "    \n",
    "    # forward + backward + optimize\n",
    "    x, outputs, reconst = net(inputs, labels)\n",
    "\n",
    "    break #just take the 4 examples\n",
    "\n",
    "X = np.asarray(inputs.data).astype(np.float32)\n",
    "\n",
    "X_recons = np.asarray(reconst.data.view(-1,28,28)).astype(np.float32)\n",
    "\n",
    "\n",
    "for i in range(X.shape[0]):\n",
    "    plt.subplot(X.shape[0], 2, 2*i+1)\n",
    "    plt.imshow(X[i][0], cmap = 'gray')\n",
    "    plt.title('Actual')\n",
    "    plt.axis('off')\n",
    "    \n",
    "    plt.subplot(X.shape[0], 2, 2*i+2)\n",
    "    plt.imshow(X_recons[i], cmap = 'gray')\n",
    "    plt.title(\"ReCons\")\n",
    "    plt.axis('off')\n",
    "    \n",
    "    #plt.subplots_adjust(wspace=0, hspace=0)\n",
    "    plt.gcf().set_size_inches(5, 5)\n",
    "    plt.tight_layout()\n",
    "plt.show()"
   ]
  },
  {
   "cell_type": "markdown",
   "metadata": {
    "colab_type": "text",
    "id": "MwFYMDk7UtAs"
   },
   "source": [
    "# References\n",
    "\n",
    "This code is taken from [this](https://github.com/gram-ai/capsule-networks) excellent repository and changes are made so that the reconstruction of images and the capsule dimension experiment is also performed. "
   ]
  },
  {
   "cell_type": "code",
   "execution_count": null,
   "metadata": {},
   "outputs": [],
   "source": []
  },
  {
   "cell_type": "code",
   "execution_count": null,
   "metadata": {},
   "outputs": [],
   "source": []
  }
 ],
 "metadata": {
  "accelerator": "GPU",
  "colab": {
   "collapsed_sections": [],
   "name": "Copy of Dynamic Routing btw Capsules.ipynb",
   "provenance": [],
   "version": "0.3.2"
  },
  "kernelspec": {
   "display_name": "Python 3",
   "language": "python",
   "name": "python3"
  },
  "language_info": {
   "codemirror_mode": {
    "name": "ipython",
    "version": 3
   },
   "file_extension": ".py",
   "mimetype": "text/x-python",
   "name": "python",
   "nbconvert_exporter": "python",
   "pygments_lexer": "ipython3",
   "version": "3.6.6"
  }
 },
 "nbformat": 4,
 "nbformat_minor": 1
}
